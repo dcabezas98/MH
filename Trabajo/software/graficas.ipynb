{
 "cells": [
  {
   "cell_type": "code",
   "execution_count": 64,
   "metadata": {},
   "outputs": [],
   "source": [
    "import pandas as pd\n",
    "import numpy as np\n",
    "import matplotlib.pyplot as plt"
   ]
  },
  {
   "cell_type": "code",
   "execution_count": 71,
   "metadata": {},
   "outputs": [],
   "source": [
    "dim=30"
   ]
  },
  {
   "cell_type": "code",
   "execution_count": 66,
   "metadata": {},
   "outputs": [],
   "source": [
    "for i in range(1,31):\n",
    "    plt.title(\"BRANCH F\"+str(i))\n",
    "    plt.xlabel('Iteraciones')\n",
    "    plt.ylabel('Error')\n",
    "    for s in range(42,58,5):\n",
    "        datos=pd.read_csv('graphs_branch/dim'+str(dim)+'/'+str(i)+'-'+str(s)+'.txt', header=None).values.tolist()\n",
    "        datos=datos+[[dim*10000,datos[-1][1]]]\n",
    "        datos=np.array(datos)    \n",
    "        plt.plot(datos[:,0],datos[:,1])\n",
    "    plt.savefig('graphs_branch/graphs'+str(dim)+'/'+str(i)+'.png')\n",
    "    plt.close()"
   ]
  },
  {
   "cell_type": "code",
   "execution_count": 67,
   "metadata": {},
   "outputs": [],
   "source": [
    "for i in range(1,31):\n",
    "    plt.title(\"BRANCH Scale F\"+str(i))\n",
    "    plt.xlabel('Iteraciones')\n",
    "    plt.ylabel('Error')\n",
    "    ylim=0\n",
    "    for s in range(42,58,5):\n",
    "        datos=pd.read_csv('graphs_branch/dim'+str(dim)+'/'+str(i)+'-'+str(s)+'.txt', header=None).values.tolist()\n",
    "        datos=datos+[[dim*10000,datos[-1][1]]]\n",
    "        datos=np.array(datos)\n",
    "        ylim=max(ylim, datos[-1,1]*2+100)\n",
    "        plt.plot(datos[:,0],datos[:,1])\n",
    "    plt.ylim((0,ylim))\n",
    "    plt.savefig('graphs_branch/graphs'+str(dim)+'/scale-'+str(i)+'.png')\n",
    "    plt.close()"
   ]
  },
  {
   "cell_type": "code",
   "execution_count": 68,
   "metadata": {},
   "outputs": [],
   "source": [
    "for i in range(1,31):\n",
    "    plt.title(\"HYBRID F\"+str(i))\n",
    "    plt.xlabel('Iteraciones')\n",
    "    plt.ylabel('Error')\n",
    "    for s in range(42,58,5):\n",
    "        datos=pd.read_csv('graphs_hybrid/dim'+str(dim)+'/'+str(i)+'-'+str(s)+'.txt', header=None).values.tolist()\n",
    "        datos=datos+[[dim*10000,datos[-1][1]]]\n",
    "        datos=np.array(datos)    \n",
    "        plt.plot(datos[:,0],datos[:,1])\n",
    "    plt.savefig('graphs_hybrid/graphs'+str(dim)+'/'+str(i)+'.png')\n",
    "    plt.close()"
   ]
  },
  {
   "cell_type": "code",
   "execution_count": 69,
   "metadata": {},
   "outputs": [],
   "source": [
    "for i in range(1,31):\n",
    "    plt.title(\"HYBRID Scale F\"+str(i))\n",
    "    plt.xlabel('Iteraciones')\n",
    "    plt.ylabel('Error')\n",
    "    ylim=0\n",
    "    for s in range(42,58,5):\n",
    "        datos=pd.read_csv('graphs_hybrid/dim'+str(dim)+'/'+str(i)+'-'+str(s)+'.txt', header=None).values.tolist()\n",
    "        datos=datos+[[dim*10000,datos[-1][1]]]\n",
    "        datos=np.array(datos)\n",
    "        ylim=max(ylim, datos[-1,1]*2+100)\n",
    "        plt.plot(datos[:,0],datos[:,1])\n",
    "    plt.ylim((0,ylim))\n",
    "    plt.savefig('graphs_hybrid/graphs'+str(dim)+'/scale-'+str(i)+'.png')\n",
    "    plt.close()"
   ]
  }
 ],
 "metadata": {
  "kernelspec": {
   "display_name": "Python 3",
   "language": "python",
   "name": "python3"
  },
  "language_info": {
   "codemirror_mode": {
    "name": "ipython",
    "version": 3
   },
   "file_extension": ".py",
   "mimetype": "text/x-python",
   "name": "python",
   "nbconvert_exporter": "python",
   "pygments_lexer": "ipython3",
   "version": "3.8.5"
  }
 },
 "nbformat": 4,
 "nbformat_minor": 4
}
