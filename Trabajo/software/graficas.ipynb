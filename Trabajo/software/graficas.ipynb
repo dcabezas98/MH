{
 "cells": [
  {
   "cell_type": "code",
   "execution_count": 98,
   "metadata": {},
   "outputs": [],
   "source": [
    "import pandas as pd\n",
    "import numpy as np\n",
    "import matplotlib.pyplot as plt"
   ]
  },
  {
   "cell_type": "code",
   "execution_count": 99,
   "metadata": {},
   "outputs": [],
   "source": [
    "dim=30"
   ]
  },
  {
   "cell_type": "code",
   "execution_count": 95,
   "metadata": {},
   "outputs": [],
   "source": [
    "for i in range(1,31):\n",
    "    plt.title(\"BRANCH F\"+str(i))\n",
    "    plt.xlabel('Iteraciones')\n",
    "    plt.ylabel('Error')\n",
    "    for s in range(42,58,5):\n",
    "        datos=pd.read_csv('graphs_branch/dim'+str(dim)+'/'+str(i)+'-'+str(s)+'.txt', header=None).values.tolist()\n",
    "        datos=datos+[[dim*10000,datos[-1][1]]]\n",
    "        datos=np.array(datos)    \n",
    "        plt.plot(datos[:,0],datos[:,1])\n",
    "    plt.savefig('graphs_branch/graphs'+str(dim)+'/'+str(i)+'.png')\n",
    "    plt.close()"
   ]
  },
  {
   "cell_type": "code",
   "execution_count": 101,
   "metadata": {},
   "outputs": [],
   "source": [
    "for i in range(1,31):\n",
    "    plt.title(\"BRANCH Finale F\"+str(i))\n",
    "    plt.xlabel('Iteraciones')\n",
    "    plt.ylabel('Error')\n",
    "    for s in range(42,58,5):\n",
    "        datos=pd.read_csv('graphs_branch/dim'+str(dim)+'/'+str(i)+'-'+str(s)+'.txt', header=None).values.tolist()\n",
    "        datos=datos+[[dim*10000,datos[-1][1]]]\n",
    "        datos=np.array(datos)    \n",
    "        plt.plot(datos[int(len(datos)*0.75):,0],datos[int(len(datos)*0.75):,1])\n",
    "    plt.savefig('graphs_branch/graphs'+str(dim)+'/finale-'+str(i)+'.png')\n",
    "    plt.close()"
   ]
  },
  {
   "cell_type": "code",
   "execution_count": 102,
   "metadata": {},
   "outputs": [],
   "source": [
    "for i in range(1,31):\n",
    "    plt.title(\"HYBRID F\"+str(i))\n",
    "    plt.xlabel('Iteraciones')\n",
    "    plt.ylabel('Error')\n",
    "    for s in range(42,58,5):\n",
    "        datos=pd.read_csv('graphs_hybrid/dim'+str(dim)+'/'+str(i)+'-'+str(s)+'.txt', header=None).values.tolist()\n",
    "        datos=datos+[[dim*10000,datos[-1][1]]]\n",
    "        datos=np.array(datos)    \n",
    "        plt.plot(datos[:,0],datos[:,1])\n",
    "    plt.savefig('graphs_hybrid/graphs'+str(dim)+'/'+str(i)+'.png')\n",
    "    plt.close()"
   ]
  },
  {
   "cell_type": "code",
   "execution_count": 103,
   "metadata": {},
   "outputs": [],
   "source": [
    "for i in range(1,31):\n",
    "    plt.title(\"HYBRID Finale F\"+str(i))\n",
    "    plt.xlabel('Iteraciones')\n",
    "    plt.ylabel('Error')\n",
    "    for s in range(42,58,5):\n",
    "        datos=pd.read_csv('graphs_hybrid/dim'+str(dim)+'/'+str(i)+'-'+str(s)+'.txt', header=None).values.tolist()\n",
    "        datos=datos+[[dim*10000,datos[-1][1]]]\n",
    "        datos=np.array(datos)    \n",
    "        plt.plot(datos[int(len(datos)*0.75):,0],datos[int(len(datos)*0.75):,1])\n",
    "    plt.savefig('graphs_hybrid/graphs'+str(dim)+'/finale-'+str(i)+'.png')\n",
    "    plt.close()"
   ]
  }
 ],
 "metadata": {
  "kernelspec": {
   "display_name": "Python 3",
   "language": "python",
   "name": "python3"
  },
  "language_info": {
   "codemirror_mode": {
    "name": "ipython",
    "version": 3
   },
   "file_extension": ".py",
   "mimetype": "text/x-python",
   "name": "python",
   "nbconvert_exporter": "python",
   "pygments_lexer": "ipython3",
   "version": "3.8.5"
  }
 },
 "nbformat": 4,
 "nbformat_minor": 4
}
