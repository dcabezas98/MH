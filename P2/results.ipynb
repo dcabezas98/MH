{
 "cells": [
  {
   "cell_type": "code",
   "execution_count": null,
   "metadata": {},
   "outputs": [],
   "source": [
    "import matplotlib.pyplot as plt\n",
    "import numpy as np\n",
    "import pandas as pd"
   ]
  },
  {
   "cell_type": "code",
   "execution_count": null,
   "metadata": {},
   "outputs": [],
   "source": [
    "ficheros=[]\n",
    "datos=[]"
   ]
  },
  {
   "cell_type": "code",
   "execution_count": null,
   "metadata": {},
   "outputs": [],
   "source": [
    "#algoritmo='AGG-uniforme'\n",
    "#algoritmo='AGG-posicion'\n",
    "#algoritmo='AGE-uniforme'\n",
    "#algoritmo='AGE-posicion'\n",
    "#algoritmo='AM-10-1'\n",
    "#algoritmo='AM-10-01'\n",
    "#algoritmo='AM-10-01mej'"
   ]
  },
  {
   "cell_type": "code",
   "execution_count": null,
   "metadata": {},
   "outputs": [],
   "source": [
    "with open(\"software/salidas/\"+algoritmo+\".txt\",'r') as f:\n",
    "    lines= f.readlines()\n",
    "\n",
    "lines=lines[1:]\n",
    "\n",
    "i=0\n",
    "while i < len(lines):\n",
    "    ficheros.append(lines[i].replace('data/','').replace('\\n',''))\n",
    "    datos.append(list(map(float,lines[i+1].split('\\t'))))\n",
    "    i+=2"
   ]
  },
  {
   "cell_type": "code",
   "execution_count": null,
   "metadata": {
    "scrolled": true
   },
   "outputs": [],
   "source": [
    "datos"
   ]
  },
  {
   "cell_type": "code",
   "execution_count": null,
   "metadata": {},
   "outputs": [],
   "source": [
    "df = pd.DataFrame({'File':[],'Diversity':[],'Time':[]})"
   ]
  },
  {
   "cell_type": "code",
   "execution_count": null,
   "metadata": {},
   "outputs": [],
   "source": [
    "for i in range(len(ficheros)):\n",
    "    new_row={'File':ficheros[i][:-4],'Diversity':datos[i][0],'Time':datos[i][1]}\n",
    "    df=df.append(new_row, ignore_index=True)"
   ]
  },
  {
   "cell_type": "code",
   "execution_count": null,
   "metadata": {},
   "outputs": [],
   "source": [
    "df.index=df.File\n",
    "df.drop(columns=['File'],inplace=True)"
   ]
  },
  {
   "cell_type": "code",
   "execution_count": null,
   "metadata": {},
   "outputs": [],
   "source": [
    "new_index=['MDG-a_'+str(i)+'_n500_m50' for i in range(1,11)]\n",
    "new_index=new_index+['MDG-b_'+str(i)+'_n2000_m200' for i in range(21,31)]\n",
    "new_index=new_index+['MDG-c_'+str(i)+'_n3000_m300' for i in range(1,3)]\n",
    "new_index=new_index+['MDG-c_'+str(i)+'_n3000_m400' for i in range(8,11)]\n",
    "new_index=new_index+['MDG-c_'+str(i)+'_n3000_m500' for i in range(13,16)]\n",
    "new_index=new_index+['MDG-c_'+str(i)+'_n3000_m600' for i in range(19,21)]"
   ]
  },
  {
   "cell_type": "code",
   "execution_count": null,
   "metadata": {
    "scrolled": true
   },
   "outputs": [],
   "source": [
    "df=df.reindex(new_index)\n",
    "df"
   ]
  },
  {
   "cell_type": "code",
   "execution_count": null,
   "metadata": {},
   "outputs": [],
   "source": [
    "df.to_csv('results/'+algoritmo+'.csv')"
   ]
  }
 ],
 "metadata": {
  "kernelspec": {
   "display_name": "Python 3",
   "language": "python",
   "name": "python3"
  },
  "language_info": {
   "codemirror_mode": {
    "name": "ipython",
    "version": 3
   },
   "file_extension": ".py",
   "mimetype": "text/x-python",
   "name": "python",
   "nbconvert_exporter": "python",
   "pygments_lexer": "ipython3",
   "version": "3.8.5"
  }
 },
 "nbformat": 4,
 "nbformat_minor": 4
}
